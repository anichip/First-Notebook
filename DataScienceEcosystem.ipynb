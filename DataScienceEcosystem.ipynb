{
 "cells": [
  {
   "cell_type": "markdown",
   "id": "e0195c3a-7ad6-4733-b342-0a52ec117f04",
   "metadata": {},
   "source": [
    "# Data Science Tools and Ecosystem"
   ]
  },
  {
   "cell_type": "markdown",
   "id": "c8b33aa7-8227-44f7-98e7-649b40faa09f",
   "metadata": {},
   "source": [
    "In this notebook, Data Science Tools and Ecosystem are summarized."
   ]
  },
  {
   "cell_type": "markdown",
   "id": "b73fa3a1-e140-49b6-8294-1ede7655676b",
   "metadata": {},
   "source": [
    "Objectives:\n",
    "*  List Data Science Libraries\n",
    "*  Convert minutes to hours\n",
    "*  List Data Science Libraries\n",
    "*  Data Science Tools\n",
    "*  Multiply and Add Numbers"
   ]
  },
  {
   "cell_type": "markdown",
   "id": "e7b669c2-4045-4663-809d-5e7026dc734a",
   "metadata": {},
   "source": [
    "Some of the popular languages that Data Scientists use are:\n",
    "1. Python\n",
    "2. R\n",
    "3. Scala\n",
    "4. Java"
   ]
  },
  {
   "cell_type": "markdown",
   "id": "a35b81a2-0ae4-44e1-8a8c-20de9f34b9d3",
   "metadata": {},
   "source": [
    "Some of the commonly used libraries used by Data Scientists include:\n",
    "1. Pandas\n",
    "2. SciKitLearn\n",
    "3. Seaborn\n",
    "4. Matplotlib"
   ]
  },
  {
   "cell_type": "markdown",
   "id": "a9f030d0-12a9-41d6-b8ed-79466013d62c",
   "metadata": {},
   "source": [
    "| Data Science Tools |\n",
    "| --- |\n",
    "| R Studio |\n",
    "| --- |\n",
    "| Jupyter Notebook |\n",
    "| --- |\n",
    "| PostgreSQL |\n",
    "| --- |"
   ]
  },
  {
   "cell_type": "markdown",
   "id": "be3fd08a-7b21-4c40-a948-c515107cfa1b",
   "metadata": {},
   "source": [
    "Below are a few examples of evaluating arithmetic expressions in Python"
   ]
  },
  {
   "cell_type": "code",
   "execution_count": 1,
   "id": "bc0f46d9-e988-427d-b5b5-4f68e531609e",
   "metadata": {},
   "outputs": [
    {
     "data": {
      "text/plain": [
       "17"
      ]
     },
     "execution_count": 1,
     "metadata": {},
     "output_type": "execute_result"
    }
   ],
   "source": [
    "#This a simple arithmetic expression to mutiply then add integers\n",
    "(3*4)+5"
   ]
  },
  {
   "cell_type": "code",
   "execution_count": 2,
   "id": "51e0fb12-9973-4201-a3df-958cf37bbbf3",
   "metadata": {},
   "outputs": [
    {
     "data": {
      "text/plain": [
       "3.3333333333333335"
      ]
     },
     "execution_count": 2,
     "metadata": {},
     "output_type": "execute_result"
    }
   ],
   "source": [
    "#This will convert 200 minutes to hours by diving by 60\n",
    "200/60"
   ]
  },
  {
   "cell_type": "markdown",
   "id": "70b0704d-fc2b-4202-a521-893daa9a6e54",
   "metadata": {},
   "source": [
    "## Author \n",
    "Aniruddha Chiplunkar"
   ]
  }
 ],
 "metadata": {
  "kernelspec": {
   "display_name": "Python 3 (ipykernel)",
   "language": "python",
   "name": "python3"
  },
  "language_info": {
   "codemirror_mode": {
    "name": "ipython",
    "version": 3
   },
   "file_extension": ".py",
   "mimetype": "text/x-python",
   "name": "python",
   "nbconvert_exporter": "python",
   "pygments_lexer": "ipython3",
   "version": "3.11.7"
  }
 },
 "nbformat": 4,
 "nbformat_minor": 5
}
